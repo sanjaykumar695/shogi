{
 "cells": [
  {
   "cell_type": "markdown",
   "id": "fdb5a244",
   "metadata": {},
   "source": [
    "Below mentioned datasets are been created in shogisona24@gmail.com account of roboflow."
   ]
  },
  {
   "cell_type": "markdown",
   "id": "80cf6481",
   "metadata": {},
   "source": [
    "#April\n",
    "Dataset code of April Dataset."
   ]
  },
  {
   "cell_type": "markdown",
   "id": "806a5226",
   "metadata": {},
   "source": [
    "Link of roboflow Project named April\n",
    "https://app.roboflow.com/shogi-sona-opctj/april-lhuwz/1"
   ]
  },
  {
   "cell_type": "code",
   "execution_count": null,
   "id": "c2996ac8",
   "metadata": {
    "vscode": {
     "languageId": "plaintext"
    }
   },
   "outputs": [],
   "source": [
    "!pip install roboflow\n",
    "\n",
    "from roboflow import Roboflow\n",
    "rf = Roboflow(api_key=\"XULWdIQFkJmgPiZ2IIZX\")\n",
    "project = rf.workspace(\"shogi-sona-opctj\").project(\"april-lhuwz\")\n",
    "version = project.version(1)\n",
    "dataset = version.download(\"yolov8\")\n",
    "                "
   ]
  },
  {
   "cell_type": "markdown",
   "id": "65078816",
   "metadata": {},
   "source": [
    "#Balanced\n",
    "Dataset code of Balanced Dataset."
   ]
  },
  {
   "cell_type": "markdown",
   "id": "8701d392",
   "metadata": {},
   "source": [
    "Link of roboflow Project named Balanced\n",
    "https://app.roboflow.com/shogi-sona-opctj/balance-iar0e/2"
   ]
  },
  {
   "cell_type": "code",
   "execution_count": null,
   "id": "0e55e6f6",
   "metadata": {
    "vscode": {
     "languageId": "plaintext"
    }
   },
   "outputs": [],
   "source": [
    "!pip install roboflow\n",
    "\n",
    "from roboflow import Roboflow\n",
    "rf = Roboflow(api_key=\"XULWdIQFkJmgPiZ2IIZX\")\n",
    "project = rf.workspace(\"shogi-sona-opctj\").project(\"balance-iar0e\")\n",
    "version = project.version(2)\n",
    "dataset = version.download(\"yolov8\")\n",
    "                "
   ]
  },
  {
   "cell_type": "markdown",
   "id": "321b2980",
   "metadata": {},
   "source": [
    "#Zoom\n",
    "Dataset code of Zoom Dataset."
   ]
  },
  {
   "cell_type": "markdown",
   "id": "31794e00",
   "metadata": {},
   "source": [
    "Link of roboflow Project named Zoom\n",
    "https://app.roboflow.com/shogi-sona-opctj/zoom-zwecm/2"
   ]
  },
  {
   "cell_type": "code",
   "execution_count": null,
   "id": "c622b991",
   "metadata": {
    "vscode": {
     "languageId": "plaintext"
    }
   },
   "outputs": [],
   "source": [
    "!pip install roboflow\n",
    "\n",
    "from roboflow import Roboflow\n",
    "rf = Roboflow(api_key=\"XULWdIQFkJmgPiZ2IIZX\")\n",
    "project = rf.workspace(\"shogi-sona-opctj\").project(\"zoom-zwecm\")\n",
    "version = project.version(2)\n",
    "dataset = version.download(\"yolov8\")\n",
    "                "
   ]
  },
  {
   "cell_type": "markdown",
   "id": "5a3affe3",
   "metadata": {},
   "source": [
    "Below mentioned datasets are been created in sanjay.project2024@gmail.com account of roboflow."
   ]
  },
  {
   "cell_type": "markdown",
   "id": "2a23f54a",
   "metadata": {},
   "source": [
    "#shogi \n",
    "Dataset code of shogi dataset.\n",
    "This is annother updated version og Balanced."
   ]
  },
  {
   "cell_type": "markdown",
   "id": "a0597cf7",
   "metadata": {},
   "source": [
    "Link of roboflow Project named Shogi\n",
    "https://app.roboflow.com/sample-lypb5/shogi-xom2m/1"
   ]
  },
  {
   "cell_type": "code",
   "execution_count": null,
   "id": "0252b05a",
   "metadata": {
    "vscode": {
     "languageId": "plaintext"
    }
   },
   "outputs": [],
   "source": [
    "!pip install roboflow\n",
    "\n",
    "from roboflow import Roboflow\n",
    "rf = Roboflow(api_key=\"LDw8GX7mojXC5EW6CTn9\")\n",
    "project = rf.workspace(\"sample-lypb5\").project(\"shogi-xom2m\")\n",
    "version = project.version(1)\n",
    "dataset = version.download(\"yolov8\")\n",
    "                "
   ]
  },
  {
   "cell_type": "markdown",
   "id": "bfbd67b7",
   "metadata": {},
   "source": [
    "#polygon\n",
    "Dataset code of Polygon Dataset.\n",
    "This annotation is done in Polygon."
   ]
  },
  {
   "cell_type": "markdown",
   "id": "0c3dae9d",
   "metadata": {},
   "source": [
    "Link of roboflow Project named POLYGON\n",
    "https://app.roboflow.com/sample-lypb5/polygon-1jyil/1"
   ]
  },
  {
   "cell_type": "code",
   "execution_count": null,
   "id": "3b42b6bf",
   "metadata": {
    "vscode": {
     "languageId": "plaintext"
    }
   },
   "outputs": [],
   "source": [
    "!pip install roboflow\n",
    "\n",
    "from roboflow import Roboflow\n",
    "rf = Roboflow(api_key=\"LDw8GX7mojXC5EW6CTn9\")\n",
    "project = rf.workspace(\"sample-lypb5\").project(\"polygon-1jyil\")\n",
    "version = project.version(1)\n",
    "dataset = version.download(\"yolov8\")\n",
    "                "
   ]
  },
  {
   "cell_type": "markdown",
   "id": "60fe0099",
   "metadata": {},
   "source": [
    "#polygon_king\n",
    "Dataset code of Polygon_King Dataset.\n",
    "This annotation is done in Polygon and gave some special concentration to the White King and Black King."
   ]
  },
  {
   "cell_type": "markdown",
   "id": "b3aa48f6",
   "metadata": {},
   "source": [
    "Link of roboflow Project named POLYGON KING\n",
    "https://app.roboflow.com/sample-lypb5/polygon-king/1"
   ]
  },
  {
   "cell_type": "code",
   "execution_count": null,
   "id": "d731c7fd",
   "metadata": {
    "vscode": {
     "languageId": "plaintext"
    }
   },
   "outputs": [],
   "source": [
    "!pip install roboflow\n",
    "\n",
    "from roboflow import Roboflow\n",
    "rf = Roboflow(api_key=\"LDw8GX7mojXC5EW6CTn9\")\n",
    "project = rf.workspace(\"sample-lypb5\").project(\"polygon-king\")\n",
    "version = project.version(1)\n",
    "dataset = version.download(\"yolov8\")\n",
    "                "
   ]
  }
 ],
 "metadata": {
  "language_info": {
   "name": "python"
  }
 },
 "nbformat": 4,
 "nbformat_minor": 5
}
