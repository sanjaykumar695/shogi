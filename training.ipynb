{
 "cells": [
  {
   "cell_type": "markdown",
   "id": "dcf1c4f5",
   "metadata": {},
   "source": [
    "This repository starts from extracting the yolo v8 code from roboflow."
   ]
  },
  {
   "cell_type": "code",
   "execution_count": null,
   "id": "1f33f442",
   "metadata": {},
   "outputs": [],
   "source": [
    "%pip install roboflow\n",
    "\n",
    "from roboflow import Roboflow\n",
    "rf = Roboflow(api_key=\"XULWdIQFkJmgPiZ2IIZX\")\n",
    "project = rf.workspace(\"shogi-sona-opctj\").project(\"april-lhuwz\")\n",
    "version = project.version(1)\n",
    "dataset = version.download(\"yolov8\")\n",
    "                "
   ]
  },
  {
   "cell_type": "markdown",
   "id": "7d97c78e",
   "metadata": {},
   "source": [
    "After running the code you get a folder that has been created in the name of the roboflow folder of the dataset.\n",
    "\n",
    "Step 1: Then go to the data.yalm file.\n",
    "\n",
    "Step 2: Delete the path of test , train, and valid and replace with the respective path that has been created under the dataset folder."
   ]
  },
  {
   "cell_type": "markdown",
   "id": "10c3ffd8",
   "metadata": {},
   "source": [
    "If you run this code in colab then connect to your google drive if needed."
   ]
  },
  {
   "cell_type": "code",
   "execution_count": null,
   "id": "cd9ebf28",
   "metadata": {},
   "outputs": [],
   "source": [
    "from google.colab import drive\n",
    "drive.mount('/content/drive')"
   ]
  },
  {
   "cell_type": "markdown",
   "id": "6b6038e3",
   "metadata": {},
   "source": [
    "import the required packages"
   ]
  },
  {
   "cell_type": "code",
   "execution_count": null,
   "id": "1f05e6be",
   "metadata": {},
   "outputs": [],
   "source": [
    "%pip install ultralytics\n",
    "import ultralytics\n",
    "ultralytics.checks()"
   ]
  },
  {
   "cell_type": "markdown",
   "id": "222048c3",
   "metadata": {},
   "source": [
    "This code used to train the dataset."
   ]
  },
  {
   "cell_type": "code",
   "execution_count": null,
   "id": "deb41fcf",
   "metadata": {},
   "outputs": [],
   "source": [
    "from ultralytics import YOLO\n",
    "\n",
    "# Load a YOLOv8 model (e.g., YOLOv8n)\n",
    "model = YOLO(\"YOLOv8n\")\n",
    "\n",
    "# Train the model\n",
    "model.train(\n",
    "    data=\"/content/Black-and-White-1/data.yaml\",    #paste the yalm file path\n",
    "    epochs=50,\n",
    "    imgsz=640,\n",
    "    batch=2,\n",
    "    patience=10\n",
    ")\n"
   ]
  },
  {
   "cell_type": "markdown",
   "id": "2a0d67cc",
   "metadata": {},
   "source": [
    "This code is to predict the images."
   ]
  },
  {
   "cell_type": "code",
   "execution_count": null,
   "id": "30652bb0",
   "metadata": {},
   "outputs": [],
   "source": [
    "from ultralytics import YOLO\n",
    "\n",
    "# Load a pretrained YOLOv8n model\n",
    "model = YOLO(\"/content/polyk (b2-100).pt\")\n",
    "\n",
    "# Define path to the image file\n",
    "source = \"/content/drive/MyDrive/2025/10 2 25/20250210_101924.jpg\"\n",
    "\n",
    "# Run inference on the source\n",
    "results = model(source,show=True,save=True)  # list of Results objects"
   ]
  },
  {
   "cell_type": "markdown",
   "id": "346dfc44",
   "metadata": {},
   "source": [
    "This code is to predict the video."
   ]
  },
  {
   "cell_type": "code",
   "execution_count": null,
   "id": "5987a83e",
   "metadata": {},
   "outputs": [],
   "source": [
    "from ultralytics import YOLO\n",
    "\n",
    "# Load a pretrained YOLOv8n model\n",
    "model = YOLO(\"/content/drive/MyDrive/best.pt\")\n",
    "\n",
    "# Define path to video file\n",
    "source = \"/content/1 SAMPLE MOVE.mp4\"\n",
    "\n",
    "# Run inference on the source\n",
    "results = model(source, show=True,save=True)  # generator of Results objects"
   ]
  }
 ],
 "metadata": {
  "kernelspec": {
   "display_name": "Python 3",
   "language": "python",
   "name": "python3"
  },
  "language_info": {
   "codemirror_mode": {
    "name": "ipython",
    "version": 3
   },
   "file_extension": ".py",
   "mimetype": "text/x-python",
   "name": "python",
   "nbconvert_exporter": "python",
   "pygments_lexer": "ipython3",
   "version": "3.11.3"
  }
 },
 "nbformat": 4,
 "nbformat_minor": 5
}
